{
 "cells": [
  {
   "cell_type": "code",
   "execution_count": 1,
   "metadata": {
    "pycharm": {
     "is_executing": false
    }
   },
   "outputs": [],
   "source": [
    "from sklearn.datasets import load_boston\n",
    "import sklearn.ensemble\n",
    "import numpy as np"
   ]
  },
  {
   "cell_type": "code",
   "execution_count": 2,
   "metadata": {
    "pycharm": {
     "is_executing": false
    }
   },
   "outputs": [],
   "source": [
    "# Boston Dataset: 506 instances and 14 attributes \n",
    "#Attribute Information (in order):\n",
    "    #        - CRIM     per capita crime rate by town\n",
    "    #        - ZN       proportion of residential land zoned for lots over 25,000 sq.ft.\n",
    "    #        - INDUS    proportion of non-retail business acres per town\n",
    "    #        - CHAS     Charles River dummy variable (= 1 if tract bounds river; 0 otherwise)\n",
    "    #        - NOX      nitric oxides concentration (parts per 10 million)\n",
    "    #        - RM       average number of rooms per dwelling\n",
    "    #        - AGE      proportion of owner-occupied units built prior to 1940\n",
    "    #        - DIS      weighted distances to five Boston employment centres\n",
    "    #        - RAD      index of accessibility to radial highways\n",
    "    #        - TAX      full-value property-tax rate per $10,000\n",
    "    #        - PTRATIO  pupil-teacher ratio by town\n",
    "    #        - B        1000(Bk - 0.63)^2 where Bk is the proportion of blacks by town\n",
    "    #        - LSTAT    % lower status of the population\n",
    "    #        - MEDV     Median value of owner-occupied homes in $1000's"
   ]
  },
  {
   "cell_type": "code",
   "execution_count": 3,
   "metadata": {
    "scrolled": true,
    "pycharm": {
     "is_executing": false
    }
   },
   "outputs": [
    {
     "name": "stdout",
     "text": [
      "Random Forest MSError 11.601019224803833\nMSError when predicting the mean 84.55438956268226\n"
     ],
     "output_type": "stream"
    }
   ],
   "source": [
    "boston = load_boston()\n",
    "\n",
    "rf = sklearn.ensemble.RandomForestRegressor(n_estimators=1000)\n",
    "\n",
    "train, test, labels_train, labels_test = sklearn.model_selection.train_test_split(boston.data, boston.target, train_size=0.80)\n",
    "\n",
    "rf.fit(train, labels_train)\n",
    "\n",
    "print('Random Forest MSError', np.mean((rf.predict(test) - labels_test) ** 2))\n",
    "\n",
    "print('MSError when predicting the mean', np.mean((labels_train.mean() - labels_test) ** 2))"
   ]
  },
  {
   "cell_type": "code",
   "execution_count": 4,
   "metadata": {
    "pycharm": {
     "is_executing": false
    }
   },
   "outputs": [],
   "source": [
    "categorical_features = np.argwhere(np.array([len(set(boston.data[:,x])) for x in range(boston.data.shape[1])]) <= 10).flatten()"
   ]
  },
  {
   "cell_type": "code",
   "execution_count": 5,
   "metadata": {
    "pycharm": {
     "is_executing": false
    }
   },
   "outputs": [
    {
     "traceback": [
      "\u001b[1;31m---------------------------------------------------------------------------\u001b[0m",
      "\u001b[1;31mModuleNotFoundError\u001b[0m                       Traceback (most recent call last)",
      "\u001b[1;32m<ipython-input-5-175ee7fe6885>\u001b[0m in \u001b[0;36m<module>\u001b[1;34m\u001b[0m\n\u001b[0;32m      1\u001b[0m \u001b[1;33m\u001b[0m\u001b[0m\n\u001b[1;32m----> 2\u001b[1;33m \u001b[1;32mimport\u001b[0m \u001b[0mlime\u001b[0m\u001b[1;33m\u001b[0m\u001b[1;33m\u001b[0m\u001b[0m\n\u001b[0m\u001b[0;32m      3\u001b[0m \u001b[1;32mimport\u001b[0m \u001b[0mlime\u001b[0m\u001b[1;33m.\u001b[0m\u001b[0mlime_tabular\u001b[0m\u001b[1;33m\u001b[0m\u001b[1;33m\u001b[0m\u001b[0m\n\u001b[0;32m      4\u001b[0m \u001b[1;33m\u001b[0m\u001b[0m\n",
      "\u001b[1;31mModuleNotFoundError\u001b[0m: No module named 'lime'"
     ],
     "ename": "ModuleNotFoundError",
     "evalue": "No module named 'lime'",
     "output_type": "error"
    }
   ],
   "source": [
    "import lime\n",
    "import lime.lime_tabular"
   ]
  },
  {
   "cell_type": "code",
   "execution_count": null,
   "metadata": {
    "pycharm": {
     "is_executing": false
    }
   },
   "outputs": [],
   "source": [
    "explainer = lime.lime_tabular.LimeTabularExplainer(train, feature_names=boston.feature_names, class_names=['price'], categorical_features=categorical_features, verbose=True, mode='regression')\n",
    "\n",
    "i = 25\n",
    "exp = explainer.explain_instance(test[i], rf.predict, num_features=5)"
   ]
  },
  {
   "cell_type": "code",
   "execution_count": null,
   "metadata": {
    "pycharm": {
     "is_executing": false
    }
   },
   "outputs": [],
   "source": [
    "exp.show_in_notebook(show_table=True)\n",
    "\n",
    "exp.as_list()"
   ]
  },
  {
   "cell_type": "code",
   "execution_count": null,
   "metadata": {
    "pycharm": {
     "is_executing": false
    }
   },
   "outputs": [],
   "source": []
  }
 ],
 "metadata": {
  "kernelspec": {
   "display_name": "Python 3",
   "language": "python",
   "name": "python3"
  },
  "language_info": {
   "codemirror_mode": {
    "name": "ipython",
    "version": 3
   },
   "file_extension": ".py",
   "mimetype": "text/x-python",
   "name": "python",
   "nbconvert_exporter": "python",
   "pygments_lexer": "ipython3",
   "version": "3.7.0"
  }
 },
 "nbformat": 4,
 "nbformat_minor": 2
}